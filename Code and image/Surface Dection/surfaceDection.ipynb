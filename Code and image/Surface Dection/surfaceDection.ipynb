{
 "cells": [
  {
   "cell_type": "code",
   "execution_count": 10,
   "id": "abfbeca6",
   "metadata": {},
   "outputs": [
    {
     "name": "stdout",
     "output_type": "stream",
     "text": [
      "Defect percentage: 74.62%\n",
      "Weld is bad!\n"
     ]
    }
   ],
   "source": [
    "import cv2\n",
    "import numpy as np\n",
    "\n",
    "def extract_surface(image_path):\n",
    "    # Load the image\n",
    "    image = cv2.imread(image_path)\n",
    "\n",
    "    # Convert the image to grayscale\n",
    "    gray = cv2.cvtColor(image, cv2.COLOR_BGR2GRAY)\n",
    "\n",
    "    # Apply adaptive thresholding to segment the weld surface\n",
    "    _, binary = cv2.threshold(gray, 0, 255, cv2.THRESH_BINARY_INV + cv2.THRESH_OTSU)\n",
    "\n",
    "    # Find contours in the binary image\n",
    "    contours, _ = cv2.findContours(binary.copy(), cv2.RETR_EXTERNAL, cv2.CHAIN_APPROX_SIMPLE)\n",
    "\n",
    "    # Calculate the total area of the weld surface\n",
    "    total_area = image.shape[0] * image.shape[1]\n",
    "\n",
    "    # Initialize variables for defect detection\n",
    "    defect_area = 0\n",
    "    for contour in contours:\n",
    "        # Calculate the area of each contour\n",
    "        contour_area = cv2.contourArea(contour)\n",
    "\n",
    "        # Check if the contour area is above a certain threshold\n",
    "        min_defect_area = 100000  # Adjust this threshold based on your specific case\n",
    "        if contour_area > min_defect_area:\n",
    "            # Increment the defect area\n",
    "            defect_area += contour_area\n",
    "\n",
    "            # Draw the defect contour on the original image\n",
    "            cv2.drawContours(image, [contour], -1, (0, 0, 255), 2)\n",
    "\n",
    "    # Calculate the defect percentage\n",
    "    defect_percentage = (defect_area / total_area) * 100\n",
    "\n",
    "    # Create a black and white image for comparison\n",
    "    comparison_image = np.zeros_like(image)\n",
    "    comparison_image[:, :, 0] = binary\n",
    "    comparison_image[:, :, 1] = binary\n",
    "    comparison_image[:, :, 2] = binary\n",
    "\n",
    "    # Display and save the original image\n",
    "    cv2.imshow(\"Original Image\", image)\n",
    "    cv2.imwrite(\"original_image.jpg\", image)\n",
    "    cv2.waitKey(0)\n",
    "\n",
    "    # Display and save the black and white comparison image\n",
    "    cv2.imshow(\"Comparison Image\", comparison_image)\n",
    "    cv2.imwrite(\"comparison_image.jpg\", comparison_image)\n",
    "    cv2.waitKey(0)\n",
    "\n",
    "    cv2.destroyAllWindows()\n",
    "\n",
    "    print(\"Defect percentage: {:.2f}%\".format(defect_percentage))\n",
    "\n",
    "    # Determine if the weld is good or bad based on the defect percentage\n",
    "    if defect_percentage <= 10:  # Adjust this threshold based on your specific case\n",
    "        print(\"Weld is good!\")\n",
    "    else:\n",
    "        print(\"Weld is bad!\")\n",
    "\n",
    "# Usage example\n",
    "image_path = \"r.jpg\"\n",
    "extract_surface(image_path)\n"
   ]
  },
  {
   "cell_type": "code",
   "execution_count": null,
   "id": "56d35947",
   "metadata": {},
   "outputs": [],
   "source": []
  }
 ],
 "metadata": {
  "kernelspec": {
   "display_name": "Python 3 (ipykernel)",
   "language": "python",
   "name": "python3"
  },
  "language_info": {
   "codemirror_mode": {
    "name": "ipython",
    "version": 3
   },
   "file_extension": ".py",
   "mimetype": "text/x-python",
   "name": "python",
   "nbconvert_exporter": "python",
   "pygments_lexer": "ipython3",
   "version": "3.11.0"
  }
 },
 "nbformat": 4,
 "nbformat_minor": 5
}
