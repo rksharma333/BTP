{
 "cells": [
  {
   "cell_type": "code",
   "execution_count": 5,
   "id": "eb8644f0",
   "metadata": {},
   "outputs": [
    {
     "name": "stdout",
     "output_type": "stream",
     "text": [
      "Joints are not clear and accurate. Quality is low.\n",
      "Percentage of edges in the analyzed region: 70.43%\n",
      "Joints in the analyzed region are not clear and accurate. Quality is low in this region.\n"
     ]
    }
   ],
   "source": [
    "import cv2\n",
    "\n",
    "# Read the image\n",
    "image = cv2.imread('ss-4.jpg', 0)  # Read the image as grayscale\n",
    "\n",
    "# Apply Gaussian blur to reduce noise\n",
    "blurred = cv2.GaussianBlur(image, (3, 3), 0)\n",
    "\n",
    "# Apply adaptive thresholding\n",
    "adaptive_threshold = cv2.adaptiveThreshold(blurred, 255, cv2.ADAPTIVE_THRESH_MEAN_C, cv2.THRESH_BINARY, 11, 2)\n",
    "\n",
    "# Calculate the percentage of edge pixels\n",
    "total_pixels = image.shape[0] * image.shape[1]\n",
    "edge_pixels = cv2.countNonZero(adaptive_threshold)\n",
    "percentage_edges = (edge_pixels / total_pixels) * 100\n",
    "threshold_percentage = 95\n",
    "\n",
    "# Print the result\n",
    "if percentage_edges < threshold_percentage:\n",
    "    print(\"Joints are not clear and accurate. Quality is low.\")\n",
    "else:\n",
    "    print(\"Joints are clear and accurate. Quality is good.\")\n",
    "\n",
    "# Enhance visualization by converting the adaptive threshold to color\n",
    "adaptive_threshold_color = cv2.cvtColor(adaptive_threshold, cv2.COLOR_GRAY2BGR)\n",
    "\n",
    "# Draw a rectangle indicating the analyzed region\n",
    "region_top_left = (100, 100)\n",
    "region_bottom_right = (image.shape[1] - 100, image.shape[0] - 100)\n",
    "cv2.rectangle(adaptive_threshold_color, region_top_left, region_bottom_right, (0, 0, 255), 2)\n",
    "\n",
    "# Display the original image, the adaptive threshold result, and the analyzed region\n",
    "cv2.imshow('Original Image', cv2.resize(image, (480, 320)))\n",
    "cv2.imshow('Adaptive Threshold', cv2.resize(adaptive_threshold_color, (480, 320)))\n",
    "\n",
    "# Save the displayed images\n",
    "cv2.imwrite('original_image.jpg', image)\n",
    "cv2.imwrite('adaptive_threshold.jpg', adaptive_threshold_color)\n",
    "\n",
    "cv2.waitKey(0)\n",
    "\n",
    "# Calculate the percentage of edge pixels within the analyzed region\n",
    "region_pixels = (region_bottom_right[0] - region_top_left[0]) * (region_bottom_right[1] - region_top_left[1])\n",
    "region_edge_pixels = cv2.countNonZero(\n",
    "    adaptive_threshold[region_top_left[1]:region_bottom_right[1], region_top_left[0]:region_bottom_right[0]])\n",
    "percentage_edges_region = (region_edge_pixels / region_pixels) * 100\n",
    "\n",
    "# Print additional insights\n",
    "print(\"Percentage of edges in the analyzed region: {:.2f}%\".format(percentage_edges_region))\n",
    "if percentage_edges_region < threshold_percentage:\n",
    "    print(\"Joints in the analyzed region are not clear and accurate. Quality is low in this region.\")\n",
    "\n",
    "# Close the windows\n",
    "cv2.destroyAllWindows()\n"
   ]
  },
  {
   "cell_type": "code",
   "execution_count": null,
   "id": "57c10835",
   "metadata": {},
   "outputs": [],
   "source": []
  }
 ],
 "metadata": {
  "kernelspec": {
   "display_name": "Python 3 (ipykernel)",
   "language": "python",
   "name": "python3"
  },
  "language_info": {
   "codemirror_mode": {
    "name": "ipython",
    "version": 3
   },
   "file_extension": ".py",
   "mimetype": "text/x-python",
   "name": "python",
   "nbconvert_exporter": "python",
   "pygments_lexer": "ipython3",
   "version": "3.11.0"
  }
 },
 "nbformat": 4,
 "nbformat_minor": 5
}
