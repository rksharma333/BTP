{
 "cells": [
  {
   "cell_type": "code",
   "execution_count": 5,
   "id": "63684755",
   "metadata": {},
   "outputs": [
    {
     "ename": "SyntaxError",
     "evalue": "(unicode error) 'unicodeescape' codec can't decode bytes in position 45-46: malformed \\N character escape (3176660714.py, line 4)",
     "output_type": "error",
     "traceback": [
      "\u001b[1;36m  Cell \u001b[1;32mIn[5], line 4\u001b[1;36m\u001b[0m\n\u001b[1;33m    image = cv2.imread(\"Desktop\\BTP\\Image Processing\\Image Processing\\NewImage\\tw-5..jpg\", 0)  # Read the image as grayscale\u001b[0m\n\u001b[1;37m                                                                                         ^\u001b[0m\n\u001b[1;31mSyntaxError\u001b[0m\u001b[1;31m:\u001b[0m (unicode error) 'unicodeescape' codec can't decode bytes in position 45-46: malformed \\N character escape\n"
     ]
    }
   ],
   "source": [
    "import cv2\n",
    "\n",
    "# Read the image\n",
    "image = cv2.imread(\"Desktop\\BTP\\Image Processing\\Image Processing\\NewImage\\tw-5..jpg\", 0)  # Read the image as grayscale\n",
    "#\n",
    "\n",
    "# Apply Gaussian blur to reduce noise\n",
    "blurred = cv2.GaussianBlur(image, (3, 3), 0)\n",
    "\n",
    "# Apply Canny edge detection\n",
    "edges = cv2.Canny(blurred, threshold1, threshold2)\n",
    "\n",
    "# Calculate the percentage of edge pixels\n",
    "total_pixels = image.shape[0] * image.shape[1]\n",
    "edge_pixels = cv2.countNonZero(edges)\n",
    "percentage_edges = (edge_pixels / total_pixels) * 100\n",
    "\n",
    "# Print the result\n",
    "if percentage_edges < threshold_percentage:\n",
    "    print(\"Joints are not clear and accurate. Quality is low.\")\n",
    "else:\n",
    "    print(\"Joints are clear and accurate. Quality is good.\")\n",
    "\n",
    "# Display the original image and the detected edges\n",
    "cv2.imshow('Original Image', image)\n",
    "cv2.imshow('Edges', edges)\n",
    "\n",
    "# Wait for a key press and then close the windows\n",
    "cv2.waitKey(0)\n",
    "cv2.destroyAllWindows()"
   ]
  },
  {
   "cell_type": "code",
   "execution_count": null,
   "id": "ca50d950",
   "metadata": {},
   "outputs": [],
   "source": []
  }
 ],
 "metadata": {
  "kernelspec": {
   "display_name": "Python 3 (ipykernel)",
   "language": "python",
   "name": "python3"
  },
  "language_info": {
   "codemirror_mode": {
    "name": "ipython",
    "version": 3
   },
   "file_extension": ".py",
   "mimetype": "text/x-python",
   "name": "python",
   "nbconvert_exporter": "python",
   "pygments_lexer": "ipython3",
   "version": "3.11.0"
  }
 },
 "nbformat": 4,
 "nbformat_minor": 5
}
